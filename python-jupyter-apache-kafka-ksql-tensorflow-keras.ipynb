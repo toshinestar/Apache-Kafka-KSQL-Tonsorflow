{
 "cells": [
  {
   "cell_type": "markdown",
   "metadata": {},
   "source": [
    "# Apache Kafka Integration + Preprocessing / Interactive Analysis with KSQL"
   ]
  },
  {
   "cell_type": "markdown",
   "metadata": {},
   "source": [
    "Load KSQL library and initiate connection to KSQL server:"
   ]
  },
  {
   "cell_type": "code",
   "execution_count": 1,
   "metadata": {},
   "outputs": [],
   "source": [
    "from ksql import KSQLAPI\n",
    "client = KSQLAPI('http://localhost:8088')"
   ]
  },
  {
   "cell_type": "markdown",
   "metadata": {},
   "source": [
    "Consume source data from Kafka Topic \"creditcardfraud_source\":"
   ]
  },
  {
   "cell_type": "code",
   "execution_count": 3,
   "metadata": {},
   "outputs": [
    {
     "data": {
      "text/plain": [
       "True"
      ]
     },
     "execution_count": 3,
     "metadata": {},
     "output_type": "execute_result"
    }
   ],
   "source": [
    "client.create_stream(table_name='creditcardfraud_source',\n",
    "                     columns_type=['Id bigint', 'Timestamp varchar', 'User varchar', 'Time int', 'V1 double', 'V2 double', 'V3 double', 'V4 double', 'V5 double', 'V6 double', 'V7 double', 'V8 double', 'V9 double', 'V10 double', 'V11 double', 'V12 double', 'V13 double', 'V14 double', 'V15 double', 'V16 double', 'V17 double', 'V18 double', 'V19 double', 'V20 double', 'V21 double', 'V22 double', 'V23 double', 'V24 double', 'V25 double', 'V26 double', 'V27 double', 'V28 double', 'Amount double', 'Class string'],\n",
    "                     topic='creditcardfraud_source',\n",
    "                     value_format='DELIMITED')"
   ]
  },
  {
   "cell_type": "markdown",
   "metadata": {},
   "source": [
    "Preprocessing: \n",
    "\n",
    "- Filter columns which are not needed \n",
    "- Filter messages where column 'class' is empty\n",
    "- Change data format to Avro for more convenient further processing\n"
   ]
  },
  {
   "cell_type": "code",
   "execution_count": 5,
   "metadata": {},
   "outputs": [
    {
     "data": {
      "text/plain": [
       "True"
      ]
     },
     "execution_count": 5,
     "metadata": {},
     "output_type": "execute_result"
    }
   ],
   "source": [
    "client.create_stream_as(table_name='creditcardfraud_preprocessed_avro',\n",
    "                     select_columns=['Time', 'V1', 'V2', 'V3', 'V4', 'V5', 'V6', 'V7', 'V8', 'V9', 'V10', 'V11', 'V12', 'V13', 'V14', 'V15', 'V16', 'V17', 'V18', 'V19', 'V20', 'V21', 'V22', 'V23', 'V24', 'V25', 'V26', 'V27', 'V28', 'Amount', 'Class'],\n",
    "                     src_table='creditcardfraud_source',\n",
    "                     conditions='Class IS NOT NULL',\n",
    "                     kafka_topic='creditcardfraud_preprocessed_avro',\n",
    "                     value_format='AVRO')"
   ]
  },
  {
   "cell_type": "markdown",
   "metadata": {},
   "source": [
    "Take a look at the creates KSQL Streams:"
   ]
  },
  {
   "cell_type": "code",
   "execution_count": 6,
   "metadata": {},
   "outputs": [
    {
     "data": {
      "text/plain": [
       "[{'@type': 'streams',\n",
       "  'statementText': 'show streams;',\n",
       "  'streams': [{'type': 'STREAM',\n",
       "    'name': 'CREDITCARDFRAUD_SOURCE',\n",
       "    'topic': 'creditcardfraud_source',\n",
       "    'format': 'DELIMITED'},\n",
       "   {'type': 'STREAM',\n",
       "    'name': 'CREDITCARDFRAUD_PREPROCESSED_AVRO',\n",
       "    'topic': 'creditcardfraud_preprocessed_avro',\n",
       "    'format': 'AVRO'}]}]"
      ]
     },
     "execution_count": 6,
     "metadata": {},
     "output_type": "execute_result"
    }
   ],
   "source": [
    "client.ksql('show streams')"
   ]
  },
  {
   "cell_type": "markdown",
   "metadata": {},
   "source": [
    "Take a look at the metadata of the KSQL Stream:"
   ]
  },
  {
   "cell_type": "code",
   "execution_count": 7,
   "metadata": {},
   "outputs": [
    {
     "data": {
      "text/plain": [
       "[{'@type': 'sourceDescription',\n",
       "  'statementText': 'describe CREDITCARDFRAUD_PREPROCESSED_AVRO;',\n",
       "  'sourceDescription': {'name': 'CREDITCARDFRAUD_PREPROCESSED_AVRO',\n",
       "   'readQueries': [],\n",
       "   'writeQueries': [{'sinks': ['CREDITCARDFRAUD_PREPROCESSED_AVRO'],\n",
       "     'id': 'CSAS_CREDITCARDFRAUD_PREPROCESSED_AVRO_0',\n",
       "     'queryString': \"CREATE stream creditcardfraud_preprocessed_avro WITH (kafka_topic='creditcardfraud_preprocessed_avro', value_format='AVRO') AS SELECT Time, V1, V2, V3, V4, V5, V6, V7, V8, V9, V10, V11, V12, V13, V14, V15, V16, V17, V18, V19, V20, V21, V22, V23, V24, V25, V26, V27, V28, Amount, Class FROM creditcardfraud_source where Class IS NOT NULL;\"}],\n",
       "   'fields': [{'name': 'ROWTIME',\n",
       "     'schema': {'type': 'BIGINT', 'fields': None, 'memberSchema': None}},\n",
       "    {'name': 'ROWKEY',\n",
       "     'schema': {'type': 'STRING', 'fields': None, 'memberSchema': None}},\n",
       "    {'name': 'TIME',\n",
       "     'schema': {'type': 'INTEGER', 'fields': None, 'memberSchema': None}},\n",
       "    {'name': 'V1',\n",
       "     'schema': {'type': 'DOUBLE', 'fields': None, 'memberSchema': None}},\n",
       "    {'name': 'V2',\n",
       "     'schema': {'type': 'DOUBLE', 'fields': None, 'memberSchema': None}},\n",
       "    {'name': 'V3',\n",
       "     'schema': {'type': 'DOUBLE', 'fields': None, 'memberSchema': None}},\n",
       "    {'name': 'V4',\n",
       "     'schema': {'type': 'DOUBLE', 'fields': None, 'memberSchema': None}},\n",
       "    {'name': 'V5',\n",
       "     'schema': {'type': 'DOUBLE', 'fields': None, 'memberSchema': None}},\n",
       "    {'name': 'V6',\n",
       "     'schema': {'type': 'DOUBLE', 'fields': None, 'memberSchema': None}},\n",
       "    {'name': 'V7',\n",
       "     'schema': {'type': 'DOUBLE', 'fields': None, 'memberSchema': None}},\n",
       "    {'name': 'V8',\n",
       "     'schema': {'type': 'DOUBLE', 'fields': None, 'memberSchema': None}},\n",
       "    {'name': 'V9',\n",
       "     'schema': {'type': 'DOUBLE', 'fields': None, 'memberSchema': None}},\n",
       "    {'name': 'V10',\n",
       "     'schema': {'type': 'DOUBLE', 'fields': None, 'memberSchema': None}},\n",
       "    {'name': 'V11',\n",
       "     'schema': {'type': 'DOUBLE', 'fields': None, 'memberSchema': None}},\n",
       "    {'name': 'V12',\n",
       "     'schema': {'type': 'DOUBLE', 'fields': None, 'memberSchema': None}},\n",
       "    {'name': 'V13',\n",
       "     'schema': {'type': 'DOUBLE', 'fields': None, 'memberSchema': None}},\n",
       "    {'name': 'V14',\n",
       "     'schema': {'type': 'DOUBLE', 'fields': None, 'memberSchema': None}},\n",
       "    {'name': 'V15',\n",
       "     'schema': {'type': 'DOUBLE', 'fields': None, 'memberSchema': None}},\n",
       "    {'name': 'V16',\n",
       "     'schema': {'type': 'DOUBLE', 'fields': None, 'memberSchema': None}},\n",
       "    {'name': 'V17',\n",
       "     'schema': {'type': 'DOUBLE', 'fields': None, 'memberSchema': None}},\n",
       "    {'name': 'V18',\n",
       "     'schema': {'type': 'DOUBLE', 'fields': None, 'memberSchema': None}},\n",
       "    {'name': 'V19',\n",
       "     'schema': {'type': 'DOUBLE', 'fields': None, 'memberSchema': None}},\n",
       "    {'name': 'V20',\n",
       "     'schema': {'type': 'DOUBLE', 'fields': None, 'memberSchema': None}},\n",
       "    {'name': 'V21',\n",
       "     'schema': {'type': 'DOUBLE', 'fields': None, 'memberSchema': None}},\n",
       "    {'name': 'V22',\n",
       "     'schema': {'type': 'DOUBLE', 'fields': None, 'memberSchema': None}},\n",
       "    {'name': 'V23',\n",
       "     'schema': {'type': 'DOUBLE', 'fields': None, 'memberSchema': None}},\n",
       "    {'name': 'V24',\n",
       "     'schema': {'type': 'DOUBLE', 'fields': None, 'memberSchema': None}},\n",
       "    {'name': 'V25',\n",
       "     'schema': {'type': 'DOUBLE', 'fields': None, 'memberSchema': None}},\n",
       "    {'name': 'V26',\n",
       "     'schema': {'type': 'DOUBLE', 'fields': None, 'memberSchema': None}},\n",
       "    {'name': 'V27',\n",
       "     'schema': {'type': 'DOUBLE', 'fields': None, 'memberSchema': None}},\n",
       "    {'name': 'V28',\n",
       "     'schema': {'type': 'DOUBLE', 'fields': None, 'memberSchema': None}},\n",
       "    {'name': 'AMOUNT',\n",
       "     'schema': {'type': 'DOUBLE', 'fields': None, 'memberSchema': None}},\n",
       "    {'name': 'CLASS',\n",
       "     'schema': {'type': 'STRING', 'fields': None, 'memberSchema': None}}],\n",
       "   'type': 'STREAM',\n",
       "   'key': '',\n",
       "   'timestamp': '',\n",
       "   'statistics': '',\n",
       "   'errorStats': '',\n",
       "   'extended': False,\n",
       "   'format': 'AVRO',\n",
       "   'topic': 'creditcardfraud_preprocessed_avro',\n",
       "   'partitions': 0,\n",
       "   'replication': 0}}]"
      ]
     },
     "execution_count": 7,
     "metadata": {},
     "output_type": "execute_result"
    }
   ],
   "source": [
    "client.ksql('describe CREDITCARDFRAUD_PREPROCESSED_AVRO')"
   ]
  },
  {
   "cell_type": "markdown",
   "metadata": {},
   "source": [
    "Interactive query statement:"
   ]
  },
  {
   "cell_type": "code",
   "execution_count": 12,
   "metadata": {},
   "outputs": [
    {
     "name": "stdout",
     "output_type": "stream",
     "text": [
      "\n",
      "\n",
      "\n",
      "\n",
      "\n",
      "{\"row\":{\"columns\":[1545916448102,null,0,-1.3598071336738,-0.0727811733098497,2.53634673796914,1.37815522427443,-0.338320769942518,0.\n",
      "462387777762292,0.239598554061257,0.0986979012610507,0.363786969611213,0.0907941719789316,-0.551599533260813,-0.617800855762348,-0.991389847235408,-0.311169353699879,1.46817697209427,-0.470400525259478,0.207971241929242,0.0257905801985591,0.403992960255733,0.251412098239705\n",
      ",-0.018306777944153,0.277837575558899,-0.110473910188767,0.0669280749146731,0.128539358273528,-0.189114843888824,0.133558376740387,-0.0210530534538215,149.62,\"0\"]},\"errorMessage\":null,\"finalMessage\":null}\n",
      "{\"row\":null,\"errorMessage\":null,\"finalMessage\":\"Limit Reached\"}\n",
      "\n"
     ]
    }
   ],
   "source": [
    "query = client.query('SELECT * FROM CREDITCARDFRAUD_PREPROCESSED_AVRO LIMIT 1')\n",
    "\n",
    "for item in query: \n",
    "    print(item)\n"
   ]
  },
  {
   "cell_type": "markdown",
   "metadata": {},
   "source": [
    "Execute sql query and keep listening streaming data:"
   ]
  },
  {
   "cell_type": "code",
   "execution_count": null,
   "metadata": {},
   "outputs": [],
   "source": [
    "# TODO How to embed ' ' in Python ???\n",
    "# client.ksql('SET 'auto.offset.reset'='earliest'');"
   ]
  },
  {
   "cell_type": "markdown",
   "metadata": {},
   "source": [
    "# Mapping from KSQL to Numpy / Pandas for Machine Learning Tasks"
   ]
  },
  {
   "cell_type": "code",
   "execution_count": 11,
   "metadata": {
    "scrolled": false
   },
   "outputs": [
    {
     "name": "stdout",
     "output_type": "stream",
     "text": [
      "\n",
      "\n",
      "\n",
      "{\"row\":{\"columns\":[1545916370264,null,1,\"2018-12-18T12:00:00Z\",\"Kai\",0,-1.3598071336738,-0.0727811733098497,2.5363467379691\n",
      "<class 'str'>\n",
      "4,1.37815522427443,-0.338320769942518,0.462387777762292,0.239598554061257,0.0986979012610507,0.363786969611213,0.0907941719789316,-0.551599533260813,-0.617800855762348,-0.991389847235408,-0.311169353699879,1.46817697209427,-0.470400525259478,0.207971241929242,0.025790580\n",
      "<class 'str'>\n",
      "1985591,0.403992960255733,0.251412098239705,-0.018306777944153,0.277837575558899,-0.110473910188767,0.0669280749146731,0.128539358273528,-0.189114843888824,0.133558376740387,-0.0210530534538215,149.62,\"0\"]},\"errorMessage\":null,\"finalMessage\":null}\n",
      "{\"row\":\n",
      "<class 'str'>\n",
      "null,\"errorMessage\":null,\"finalMessage\":\"Limit Reached\"}\n",
      "\n",
      "<class 'str'>\n"
     ]
    }
   ],
   "source": [
    "a = \"Kai\"\n",
    "#print(\"BEFORE \" + a)\n",
    "query = client.query('select * from creditcardfraud_source LIMIT 1')\n",
    "#print(list(query))\n",
    "\n",
    "for item in query: \n",
    "    print(item)\n",
    "    a = item\n",
    "    print(type(a))\n",
    "#    print(\"AFTER \" + a)"
   ]
  },
  {
   "cell_type": "markdown",
   "metadata": {},
   "source": [
    "This above command returns a generator. It can be printed e.g. by reading its values via next(query) or a for loop.\n",
    "\n",
    "TODO Get KSQL list into correct Python structure (list? dict?) for Numpy and TensorFlow\n",
    "\n",
    "https://towardsdatascience.com/23-great-pandas-codes-for-data-scientists-cca5ed9d8a38\n",
    "https://pandas.pydata.org/pandas-docs/stable/10min.html\n",
    "https://pandas.pydata.org/pandas-docs/stable/generated/pandas.DataFrame.iterrows.html"
   ]
  },
  {
   "cell_type": "code",
   "execution_count": null,
   "metadata": {},
   "outputs": [],
   "source": [
    "query"
   ]
  },
  {
   "cell_type": "code",
   "execution_count": null,
   "metadata": {},
   "outputs": [],
   "source": [
    "import numpy as np\n",
    "import pandas as pd\n",
    "import matplotlib.pyplot as plt"
   ]
  },
  {
   "cell_type": "code",
   "execution_count": null,
   "metadata": {},
   "outputs": [],
   "source": [
    "print(a)"
   ]
  },
  {
   "cell_type": "code",
   "execution_count": null,
   "metadata": {},
   "outputs": [],
   "source": [
    "dataframe = pd.DataFrame(query)"
   ]
  },
  {
   "cell_type": "code",
   "execution_count": null,
   "metadata": {},
   "outputs": [],
   "source": [
    "print(dataframe)"
   ]
  },
  {
   "cell_type": "code",
   "execution_count": null,
   "metadata": {},
   "outputs": [],
   "source": []
  },
  {
   "cell_type": "markdown",
   "metadata": {},
   "source": [
    "# Preprocessing with Pandas + Model Training with TensorFlow / Keras"
   ]
  },
  {
   "cell_type": "markdown",
   "metadata": {},
   "source": [
    "This part only includes the steps required for model training of the Autoencoder with Keras and TensorFlow. \n",
    "\n",
    "If you want to get a better understanding of the model, take a look at the other notebook \"Python Tensorflow Keras Fraud Detection Autoencoder.ipynb\" which includes many more details, plots and explanations."
   ]
  },
  {
   "cell_type": "code",
   "execution_count": 14,
   "metadata": {},
   "outputs": [],
   "source": [
    "# TODO Copy%Paste from the other Notebook (Python Tensorflow Keras Fraud Detection Autoencoder.ipynb)"
   ]
  },
  {
   "cell_type": "code",
   "execution_count": null,
   "metadata": {},
   "outputs": [],
   "source": [
    "# df = pd.read_csv(\"data/creditcard.csv\") #unzip and read in data downloaded to the local directory\n",
    "# df.head(n=5) #just to check you imported the dataset properly\n",
    "# df.shape #secondary check on the size of the dataframe"
   ]
  },
  {
   "cell_type": "markdown",
   "metadata": {},
   "source": [
    "# Model Deployment\n",
    "\n",
    "This demo focuses on the combination of Python and KSQL for data preprocessing and model training. If you want to understand the relation between Apache Kafka, KSQL and Python-related Machine Learning tools for model deployment and monitoring, please check out my other Github projects and blog posts:\n",
    "\n",
    "*TODO Links to other Github projects and blog posts.*\n",
    "\n",
    "- Kafka + ML blog\n",
    "- Deployment (ML Server vs. Embedded into streaming apps)\n",
    "- KSQL UDF example\n",
    "- Kafka Streams example (Keras + TensorFlow)\n"
   ]
  },
  {
   "cell_type": "markdown",
   "metadata": {},
   "source": [
    "# Appendix: Pandas analysis with above Fraud Detection Data"
   ]
  },
  {
   "cell_type": "code",
   "execution_count": null,
   "metadata": {},
   "outputs": [],
   "source": [
    "df = pd.read_csv(\"data/creditcard.csv\")"
   ]
  },
  {
   "cell_type": "code",
   "execution_count": null,
   "metadata": {},
   "outputs": [],
   "source": [
    "df.head()"
   ]
  },
  {
   "cell_type": "code",
   "execution_count": null,
   "metadata": {},
   "outputs": [],
   "source": [
    "df.shape"
   ]
  },
  {
   "cell_type": "code",
   "execution_count": null,
   "metadata": {},
   "outputs": [],
   "source": [
    "df.index"
   ]
  },
  {
   "cell_type": "code",
   "execution_count": null,
   "metadata": {},
   "outputs": [],
   "source": [
    "df.columns"
   ]
  },
  {
   "cell_type": "code",
   "execution_count": null,
   "metadata": {},
   "outputs": [],
   "source": [
    "df.values"
   ]
  },
  {
   "cell_type": "code",
   "execution_count": null,
   "metadata": {},
   "outputs": [],
   "source": [
    "df.describe()"
   ]
  },
  {
   "cell_type": "code",
   "execution_count": null,
   "metadata": {},
   "outputs": [],
   "source": [
    "df['Amount']"
   ]
  },
  {
   "cell_type": "code",
   "execution_count": null,
   "metadata": {},
   "outputs": [],
   "source": [
    "df[0:3]"
   ]
  },
  {
   "cell_type": "code",
   "execution_count": null,
   "metadata": {},
   "outputs": [],
   "source": [
    "df.iloc[1,1]"
   ]
  },
  {
   "cell_type": "code",
   "execution_count": null,
   "metadata": {},
   "outputs": [],
   "source": [
    "# Takes a minute or two (big CSV file)...\n",
    "#df.plot()"
   ]
  },
  {
   "cell_type": "code",
   "execution_count": null,
   "metadata": {},
   "outputs": [],
   "source": []
  }
 ],
 "metadata": {
  "kernelspec": {
   "display_name": "Python 3",
   "language": "python",
   "name": "python3"
  },
  "language_info": {
   "codemirror_mode": {
    "name": "ipython",
    "version": 3
   },
   "file_extension": ".py",
   "mimetype": "text/x-python",
   "name": "python",
   "nbconvert_exporter": "python",
   "pygments_lexer": "ipython3",
   "version": "3.6.7"
  }
 },
 "nbformat": 4,
 "nbformat_minor": 2
}
